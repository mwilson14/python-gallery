{
  "cells": [
    {
      "cell_type": "code",
      "execution_count": null,
      "metadata": {
        "collapsed": false
      },
      "outputs": [],
      "source": [
        "%matplotlib inline"
      ]
    },
    {
      "cell_type": "markdown",
      "metadata": {},
      "source": [
        "\n===============\nMetPy Monday #7\n===============\n\nThis week we learn about contouring a field on the map and some of the idiosyncrasies of\ncyclic points. In the end, we will have a plot of the globe with the Coriolis parameter\ncontoured. You can use this functionality to create height maps and more!\n\n"
      ]
    },
    {
      "cell_type": "code",
      "execution_count": null,
      "metadata": {
        "collapsed": false
      },
      "outputs": [],
      "source": [
        "import cartopy.crs as ccrs\nimport cartopy.feature as cfeat\nfrom cartopy.util import add_cyclic_point\nimport matplotlib\nimport matplotlib.pyplot as plt\nimport metpy.calc as mpcalc\nfrom metpy.units import units\nimport numpy as np"
      ]
    },
    {
      "cell_type": "code",
      "execution_count": null,
      "metadata": {
        "collapsed": false
      },
      "outputs": [],
      "source": [
        "lats = np.arange(-90, 91) * units.degrees\ncoriolis = mpcalc.coriolis_parameter(lats)"
      ]
    },
    {
      "cell_type": "code",
      "execution_count": null,
      "metadata": {
        "collapsed": false
      },
      "outputs": [],
      "source": [
        "fig = plt.figure(figsize=(8, 5))\nax = plt.subplot(1, 1, 1)\nax.plot(lats, coriolis)\nax.set_xlabel('Latitude', fontsize=14)\nax.set_ylabel('Coriolis Parameter', fontsize=14)"
      ]
    },
    {
      "cell_type": "code",
      "execution_count": null,
      "metadata": {
        "collapsed": false
      },
      "outputs": [],
      "source": [
        "lons = np.arange(0, 360)\n\ncoriolis = np.ones((181, 360)) * coriolis[:, np.newaxis]\n\ncyclic_data, cyclic_lons = add_cyclic_point(coriolis, coord=lons)"
      ]
    },
    {
      "cell_type": "code",
      "execution_count": null,
      "metadata": {
        "collapsed": false
      },
      "outputs": [],
      "source": [
        "# sphinx_gallery_thumbnail_number = 2\n\n# Works with matplotlib's built-in transform support.\nfig = plt.figure(figsize=(10, 8))\nax = fig.add_subplot(1, 1, 1, projection=ccrs.Robinson())\n\n# Sets the extent to cover the whole globe\nax.set_global()\n\n# Add variety of features\nax.add_feature(cfeat.LAND)\nax.add_feature(cfeat.OCEAN)\nax.add_feature(cfeat.COASTLINE)\n\n# Set negative contours to be solid instead of dashed\nmatplotlib.rcParams['contour.negative_linestyle'] = 'solid'\nCS = ax.contour(cyclic_lons, lats, cyclic_data, 20, colors='tab:brown',\n                transform=ccrs.PlateCarree())\nax.clabel(CS, inline=1, fontsize=10, fmt='%1.1f')\n\nplt.show()"
      ]
    }
  ],
  "metadata": {
    "kernelspec": {
      "display_name": "Python 3",
      "language": "python",
      "name": "python3"
    },
    "language_info": {
      "codemirror_mode": {
        "name": "ipython",
        "version": 3
      },
      "file_extension": ".py",
      "mimetype": "text/x-python",
      "name": "python",
      "nbconvert_exporter": "python",
      "pygments_lexer": "ipython3",
      "version": "3.6.2"
    }
  },
  "nbformat": 4,
  "nbformat_minor": 0
}